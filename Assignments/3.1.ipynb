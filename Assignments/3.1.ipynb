{
 "cells": [
  {
   "cell_type": "code",
   "execution_count": 1,
   "id": "53d0a1d4",
   "metadata": {},
   "outputs": [],
   "source": [
    "#. WEB SCRAPPING CHALLANGE #daily nation #SCRAPPING HEADLINES AND SUMMERIES\n",
    "import requests\n",
    "from bs4 import BeautifulSoup\n",
    "\n",
    "def news_extractor(url):\n",
    "    \"\"\"extract headlines and summeries from the news homepage\"\"\"\n",
    "    response = requests.get(url)\n",
    "    if response.ok:\n",
    "        soup = BeautifulSoup(response.text, 'html.parser')\n",
    "        \n",
    "        headlines = []\n",
    "        summaries = []\n",
    "        \n",
    "        for article in soup.select('article'):\n",
    "            headline = article.select_one('h3')\n",
    "            summary = article.select_one('p')\n",
    "            \n",
    "            if headline and summary:\n",
    "                headlines.append(headline.text)\n",
    "                summaries.append(summary.text)\n",
    "        return headlines, summaries\n",
    "    \n",
    "    else: \n",
    "        raise Exception('Failed to retrieve page with status', response.status_code)\n",
    "    \n",
    "    if __name__=='__main__' :\n",
    "        url = 'https://nation.africa/kenya'\n",
    "        headlines, summaries = news_extractor(url)\n",
    "        \n",
    "        for i, (headline, summary) in enumerate(zip(headlines, summaries), 1):\n",
    "            print(  i, headline)\n",
    "            print('Summary: ', summary)"
   ]
  }
 ],
 "metadata": {
  "kernelspec": {
   "display_name": "Python 3",
   "language": "python",
   "name": "python3"
  },
  "language_info": {
   "codemirror_mode": {
    "name": "ipython",
    "version": 3
   },
   "file_extension": ".py",
   "mimetype": "text/x-python",
   "name": "python",
   "nbconvert_exporter": "python",
   "pygments_lexer": "ipython3",
   "version": "3.13.3"
  }
 },
 "nbformat": 4,
 "nbformat_minor": 5
}
