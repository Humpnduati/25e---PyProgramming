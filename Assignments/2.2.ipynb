{
 "cells": [
  {
   "cell_type": "code",
   "execution_count": 5,
   "id": "f1ea169e",
   "metadata": {},
   "outputs": [
    {
     "name": "stdout",
     "output_type": "stream",
     "text": [
      "Ascending order: [0, 3, 4.56, 6, 12, 23, 56, 89, 90]\n",
      "Ascending order: ['alex', 'ann', 'ben', 'frank', 'joy', 'rob']\n",
      "Decending order:  [90, 89, 56, 23, 12, 6, 4.56, 3, 0]\n",
      "Decending order:  ['rob', 'joy', 'frank', 'ben', 'ann', 'alex']\n"
     ]
    }
   ],
   "source": [
    "# 1 . PROGRAM TO CREATE A LIST & SORT IT IN ASCENDING OR DECENDING ORDER\n",
    "\n",
    "items_num = [6, 89, 56, 3, 4.56, 0, 23, 12, 90]\n",
    "items_word = ['joy', 'alex', 'ben', 'ann', 'frank', 'rob']\n",
    "\n",
    "ascending = sorted(items_num)\n",
    "print('Ascending order:', ascending)\n",
    "ascending = sorted(items_word)\n",
    "print('Ascending order:', ascending)\n",
    "\n",
    "decending = sorted(items_num, reverse=True)\n",
    "print('Decending order: ', decending)\n",
    "decending = sorted(items_word, reverse=True)\n",
    "print('Decending order: ', decending)"
   ]
  },
  {
   "cell_type": "code",
   "execution_count": 6,
   "id": "6702bbff",
   "metadata": {},
   "outputs": [
    {
     "name": "stdout",
     "output_type": "stream",
     "text": [
      "89\n"
     ]
    }
   ],
   "source": [
    "# 2 program to get the largest number from the list\n",
    "l1 = [43, 89, 67, 56, 12]\n",
    "print(max(l1))"
   ]
  },
  {
   "cell_type": "code",
   "execution_count": 7,
   "id": "0c4d5f86",
   "metadata": {},
   "outputs": [
    {
     "name": "stdout",
     "output_type": "stream",
     "text": [
      "150\n"
     ]
    }
   ],
   "source": [
    "# 3 program to get sum of all the items in the list\n",
    "list1 = [10, 20, 30, 40, 50]\n",
    "print(sum(list1))"
   ]
  },
  {
   "cell_type": "code",
   "execution_count": 9,
   "id": "c31aea97",
   "metadata": {},
   "outputs": [
    {
     "name": "stdout",
     "output_type": "stream",
     "text": [
      "Original list: [23, 45, 67, -10, 23, 50, -10]\n",
      "List without duplicates:  [67, 45, 50, -10, 23]\n"
     ]
    }
   ],
   "source": [
    "# 4 program to remove duplicates from a list\n",
    "list2 = [23, 45, 67, -10, 23, 50, -10]\n",
    "list_a= list(set(list2))\n",
    "\n",
    "print('Original list:', list2)\n",
    "print('List without duplicates: ', list_a)"
   ]
  },
  {
   "cell_type": "code",
   "execution_count": null,
   "id": "62752c5c",
   "metadata": {},
   "outputs": [
    {
     "name": "stdout",
     "output_type": "stream",
     "text": [
      "Index:  0 67\n",
      "Index:  1 45\n",
      "Index:  2 50\n",
      "Index:  3 -10\n",
      "Index:  4 23\n",
      "Index:  5 4\n",
      "Index:  6 25\n",
      "Index:  7 -2\n"
     ]
    }
   ],
   "source": [
    "# 5 program to create a list and iterate throught it with a for loop\n",
    "numbers = [67, 45, 50, -10, 23, 4, 25, -2]\n",
    "for index, value in enumerate(numbers):\n",
    "    print('Index: ', index, value,)"
   ]
  },
  {
   "cell_type": "code",
   "execution_count": 13,
   "id": "25e4dd02",
   "metadata": {},
   "outputs": [
    {
     "name": "stdout",
     "output_type": "stream",
     "text": [
      "Student Information:  ('nduati githu', 36, 'A')\n"
     ]
    }
   ],
   "source": [
    "# 6 program to store student information in tuple\n",
    "name = input('Enter Student Names: ')\n",
    "age = int(input('Enter Age of Student: '))\n",
    "grade = input('Enter Student Grade: ')\n",
    "\n",
    "student_info = (name, age, grade)\n",
    "\n",
    "print('Student Information: '  ,student_info)"
   ]
  },
  {
   "cell_type": "code",
   "execution_count": 14,
   "id": "471782b1",
   "metadata": {},
   "outputs": [
    {
     "name": "stdout",
     "output_type": "stream",
     "text": [
      "Result:  16.0\n"
     ]
    }
   ],
   "source": [
    "# program to perform basic calculations using a tuple of operators\n",
    "\n",
    "operators = ('+', '-', '*', '/')\n",
    "num = float(input('Enter a number: '))\n",
    "num_1 = float(input('Enter a number: '))\n",
    "operator = input('Choose your operator: ')\n",
    "\n",
    "if operator == '+':\n",
    "    result = num + num_1\n",
    "elif operator == '-':\n",
    "    result = num - num_1\n",
    "elif operator == '*':\n",
    "    result = num * num_1\n",
    "elif operator == '/':\n",
    "    if num_1 != 0:\n",
    "        result = num / num_1\n",
    "    else:\n",
    "        result = 'Error: Division by zero'\n",
    "else:\n",
    "    result = 'Invalid operator choosen!'\n",
    "\n",
    "print('Result: ', result)"
   ]
  }
 ],
 "metadata": {
  "kernelspec": {
   "display_name": "Python 3",
   "language": "python",
   "name": "python3"
  },
  "language_info": {
   "codemirror_mode": {
    "name": "ipython",
    "version": 3
   },
   "file_extension": ".py",
   "mimetype": "text/x-python",
   "name": "python",
   "nbconvert_exporter": "python",
   "pygments_lexer": "ipython3",
   "version": "3.13.3"
  }
 },
 "nbformat": 4,
 "nbformat_minor": 5
}
