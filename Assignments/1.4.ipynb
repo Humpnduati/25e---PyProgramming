{
 "cells": [
  {
   "cell_type": "code",
   "execution_count": null,
   "id": "4122f79e",
   "metadata": {},
   "outputs": [],
   "source": [
    "#1.\n",
    "#POSITIVE NEGATIVE CHECKER\n",
    "def check_number(number):\n",
    "\n",
    "        if number > 0:\n",
    "            return(\"The number is positive.\")        \n",
    "        elif number < 0:\n",
    "            return(\"The number is negative.\")        \n",
    "        else:\n",
    "            return(\"The number is zero.\")\n",
    "        \n",
    "\n",
    "number = float(input(\"Enter a number: \"))\n",
    "print(check_number(number))\n"
   ]
  },
  {
   "cell_type": "code",
   "execution_count": null,
   "id": "16202705",
   "metadata": {},
   "outputs": [],
   "source": [
    "#2.FUNCTIONS TO CALCULATE AREA OF DIFFERENT SHAPES:SQUARE, RECTANGLE, CIRCLE\n",
    "import math\n",
    "\n",
    "def area_square(side):\n",
    "    return side **2\n",
    "def area_of_rectangle(length, width):\n",
    "    return length * width\n",
    "def area_of_circle(radius):\n",
    "    return math.pi * radius ** 2\n",
    "\n",
    "def main():\n",
    "    print('Choose a shape to calculate area of: ')\n",
    "    print('1. Square')\n",
    "    print('2. Rectangle')\n",
    "    print('3. Circle')\n",
    "    \n",
    "    choice = input('Enter your choice (1/2/3):')\n",
    "    if choice == '1':\n",
    "        side= float(input('Enter the side of the square: '))\n",
    "        print('Area of square: ', area_square(side))\n",
    "    elif choice == '2':\n",
    "        length = float(input('Enter the length of the rectangle: '))\n",
    "        width = float(input('Enter the width of the rectangle: '))\n",
    "        print('Area of rectangle: ', area_of_rectangle(lenght, width))\n",
    "    elif choice == '3':\n",
    "        radius = float(input('Enter the radius of the circle: '))\n",
    "        print('Area of circle: ', area_of_circle(radius))\n",
    "    else:\n",
    "        print('Invalid choice! Please choose 1, 2, or 3.')\n",
    "        \n",
    "if __name__=='__main__':\n",
    "    main()"
   ]
  },
  {
   "cell_type": "code",
   "execution_count": 41,
   "id": "b55c558b",
   "metadata": {},
   "outputs": [
    {
     "name": "stdout",
     "output_type": "stream",
     "text": [
      "The grade is: D\n"
     ]
    }
   ],
   "source": [
    "#3.\n",
    "#FUNCTION calculate_grade THAT TAKES A SCORE AS INPUT AND RETURNS THE GRADE\n",
    "def calculate_grade(score):\n",
    "    if score <= 100 and score >= 90:\n",
    "        return 'A'\n",
    "    elif score <= 89 and score >= 80:\n",
    "        return 'B'\n",
    "    elif score <= 79 and score >= 70:\n",
    "        return 'C'\n",
    "    elif score <= 69 and score >= 60:\n",
    "        return 'D'\n",
    "    elif score < 59 and score >= 50:\n",
    "        return 'E'\n",
    "    elif score < 50 and score >= 0:\n",
    "        return 'F'\n",
    "    else:\n",
    "        return 'Invalid score! Please enter a score between 0 and 100.'\n",
    "    \n",
    "score = float(input('Enter the score: '))\n",
    "print('The grade is:', calculate_grade(score))"
   ]
  }
 ],
 "metadata": {
  "kernelspec": {
   "display_name": "Python 3",
   "language": "python",
   "name": "python3"
  },
  "language_info": {
   "codemirror_mode": {
    "name": "ipython",
    "version": 3
   },
   "file_extension": ".py",
   "mimetype": "text/x-python",
   "name": "python",
   "nbconvert_exporter": "python",
   "pygments_lexer": "ipython3",
   "version": "3.13.3"
  }
 },
 "nbformat": 4,
 "nbformat_minor": 5
}
