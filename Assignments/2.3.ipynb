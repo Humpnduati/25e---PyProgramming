{
 "cells": [
  {
   "cell_type": "code",
   "execution_count": 1,
   "id": "6b06fbb7",
   "metadata": {},
   "outputs": [
    {
     "name": "stdout",
     "output_type": "stream",
     "text": [
      "Sum of all the values in the dictionary:  1421\n"
     ]
    }
   ],
   "source": [
    "# 1. program to sum up all the items in a dictonary\n",
    "dict = {'a':150, 'b':250, 'c':135, 'd':651, 'e':235}\n",
    "total = sum(dict.values())\n",
    "\n",
    "print('Sum of all the values in the dictionary: ' ,total)\n"
   ]
  },
  {
   "cell_type": "code",
   "execution_count": null,
   "id": "ee196a53",
   "metadata": {},
   "outputs": [],
   "source": [
    "# 2. program to manage product inventory by the user using a dictionary\n",
    "def view_inventory(inventory):\n",
    "    if not inventory:\n",
    "        print('Empty Inventory! ')\n",
    "    else:\n",
    "        print('Current Inventort: ')\n",
    "        for name, information in inventory.items():\n",
    "            print('Product: ', name, 'Price: KSH', information['price'], 'Quantity: ', information['quantity'] )\n",
    "            \n",
    "def main():\n",
    "    inventory = {}\n",
    "    \n",
    "    while True:\n",
    "        print('\\nOptions: ')\n",
    "        print('1. Add a product')\n",
    "        print('2. Update a product')\n",
    "        print('3. Remove a product')\n",
    "        print('4. View a product')\n",
    "        print('5. EXIT')\n",
    "        \n",
    "        choose = input('Enter your choice, (1-5):')\n",
    "        \n",
    "        if choose == '1':\n",
    "            name = input('Enter Product Name: ')\n",
    "            price = float(input('Enter Price: '))\n",
    "            quantity = int(input('Enter Quantity: '))\n",
    "            inventory[name] = {'Price': price, 'Quantity': quantity}\n",
    "            print('Product Added !!')\n",
    "            \n",
    "        elif choose == '2':\n",
    "            name = input('Enter Product to Update: ')\n",
    "            if name in inventory:\n",
    "                price = float(input('Enter New Price: '))\n",
    "                quantity = int(input('Enter New Quantity: '))\n",
    "                inventory[name] = {'Price': price, 'Quantity': quantity}\n",
    "                print('Update Succeful')\n",
    "            else:\n",
    "                print('Product not Found !!')\n",
    "                \n",
    "        elif choose == '3':\n",
    "            name = input('Enter Product to Remove: ')\n",
    "            if name in inventory:\n",
    "                del inventory[name]\n",
    "                print('Removal Succesful')\n",
    "            else:\n",
    "                print('Product not Found !!')\n",
    "        \n",
    "        elif choose == '4':\n",
    "            view_inventory(inventory)\n",
    "            \n",
    "        elif choose == '5':\n",
    "            print('Exiting !!')\n",
    "            break\n",
    "        else:\n",
    "            print('Invalid Choice, Choose between 1 - 5.')\n",
    "            \n",
    "if __name__ == '__main__':\n",
    "    main()\n",
    "                \n",
    "            \n",
    "        \n",
    "             "
   ]
  },
  {
   "cell_type": "code",
   "execution_count": 13,
   "id": "881d51af",
   "metadata": {},
   "outputs": [
    {
     "name": "stdout",
     "output_type": "stream",
     "text": [
      "Department: Finance\n",
      "Name: John John\n",
      "Role: Auditor\n",
      "\n",
      "Department: Operations\n",
      "Name: Mark Mark\n",
      "Role: Logistics Controller\n",
      "\n",
      "Department: I.T\n",
      "Name: Brian Mark\n",
      "Role: Quality Assuarance\n",
      "\n"
     ]
    }
   ],
   "source": [
    "# 3. program to create  a dictionary (with nested dictionaries) with departments and employee information\n",
    "departments = {\n",
    "    'Finance':{\n",
    "        'name': 'John John',\n",
    "        'position': 'Auditor'\n",
    "    },\n",
    "    'Operations':{\n",
    "        'name': 'Mark Mark',\n",
    "        'position': 'Logistics Controller'\n",
    "    },\n",
    "    'I.T':{\n",
    "        'name': 'Brian Mark',\n",
    "        'position': 'Quality Assuarance'\n",
    "    }\n",
    "}\n",
    "\n",
    "for dept, info in departments.items():\n",
    "    print('Department:', dept)\n",
    "    print('Name:', info['name'])\n",
    "    print('Role:', info['position'])\n",
    "    print()\n",
    "    \n",
    "    "
   ]
  },
  {
   "cell_type": "code",
   "execution_count": 14,
   "id": "9f12b37a",
   "metadata": {},
   "outputs": [
    {
     "name": "stdout",
     "output_type": "stream",
     "text": [
      "Same Items:  {3, 4}\n"
     ]
    }
   ],
   "source": [
    "# function to return identical items from 2 sets\n",
    "def same_item(set1, set2):\n",
    "    return set1 & set2\n",
    "\n",
    "set_a = {1, 2, 3, 4}\n",
    "set_b = {3, 4, 5, 6}\n",
    "\n",
    "same = same_item(set_a, set_b)\n",
    "print('Same Items: ', same)\n"
   ]
  },
  {
   "cell_type": "code",
   "execution_count": null,
   "metadata": {},
   "outputs": [],
   "source": []
  }
 ],
 "metadata": {
  "kernelspec": {
   "display_name": "Python 3",
   "language": "python",
   "name": "python3"
  },
  "language_info": {
   "codemirror_mode": {
    "name": "ipython",
    "version": 3
   },
   "file_extension": ".py",
   "mimetype": "text/x-python",
   "name": "python",
   "nbconvert_exporter": "python",
   "pygments_lexer": "ipython3",
   "version": "3.13.3"
  }
 },
 "nbformat": 4,
 "nbformat_minor": 5
}
