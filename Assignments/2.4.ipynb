{
 "cells": [
  {
   "cell_type": "code",
   "execution_count": null,
   "id": "0e0b3b5c",
   "metadata": {},
   "outputs": [],
   "source": [
    "# 1. program to check that a string contains only a certain set of characters(in this case a-z, A-Z, and 0-9)\n",
    "impo"
   ]
  }
 ],
 "metadata": {
  "language_info": {
   "name": "python"
  }
 },
 "nbformat": 4,
 "nbformat_minor": 5
}
