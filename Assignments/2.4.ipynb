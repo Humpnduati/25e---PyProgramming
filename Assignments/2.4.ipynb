{
 "cells": [
  {
   "cell_type": "code",
   "execution_count": 2,
   "id": "0e0b3b5c",
   "metadata": {},
   "outputs": [
    {
     "name": "stdout",
     "output_type": "stream",
     "text": [
      "The string contains only letters and digits.\n"
     ]
    }
   ],
   "source": [
    "# 1. program to check that a string contains only a certain set of characters(in this case a-z, A-Z, and 0-9)\n",
    "import re \n",
    "def contain_allowed_chars(s):\n",
    "    pattern = r'^[a-zA-Z0-9]*$'\n",
    "    return bool(re.match(pattern, s))\n",
    "\n",
    "input_str = input('Enter a string to check: ')\n",
    "if contain_allowed_chars(input_str):\n",
    "    print('The string contains only letters and digits.')\n",
    "else:\n",
    "    print('The string contains invalid characters.')"
   ]
  },
  {
   "cell_type": "code",
   "execution_count": 3,
   "id": "d1c0b21f",
   "metadata": {},
   "outputs": [
    {
     "name": "stdout",
     "output_type": "stream",
     "text": [
      "The string does not meet the requirements\n"
     ]
    }
   ],
   "source": [
    "# 2. program to match a string that has an 'a' followed by anrthing, and ends with 'b'\n",
    "import re\n",
    "def match_letters(s):\n",
    "    pattern = 'r^a.*b$'\n",
    "    return bool(re.match(pattern, s))\n",
    "input_str = input('Enter a string to check: ')\n",
    "if match_letters(input_str):\n",
    "    print('The string matches the required letters.')\n",
    "else:\n",
    "    print('The string does not meet the requirements')"
   ]
  },
  {
   "cell_type": "code",
   "execution_count": 4,
   "id": "3b56bf36",
   "metadata": {},
   "outputs": [
    {
     "name": "stdout",
     "output_type": "stream",
     "text": [
      "Valid Password!\n",
      "Valid date! \n"
     ]
    }
   ],
   "source": [
    "# 3.program that validates a password(min length, uppercase and lowercase letters) and a date format(dd/mm/yyyy)\n",
    "import re\n",
    "def pass_validate(password):\n",
    "    \"\"\"\n",
    "    Validate password against criteria:\n",
    "    - atleast 10 characters\n",
    "    - atleast 1 uppercase\n",
    "    - atleast 1 lowercase\n",
    "    \"\"\"\n",
    "    return (len(password) >= 10 and\n",
    "            re.search(r'[A-Z]', password) and\n",
    "            re.search(r'[a-z]', password))\n",
    "    \n",
    "def date_validator(date_str):\n",
    "    pattern = r'^([0-2]\\d|3[0-1])/(0\\d|1[0-2])/\\d{4}$'\n",
    "    return bool(re.match(pattern, date_str))\n",
    "\n",
    "input_pass = input('Enter password to validate: ')\n",
    "if pass_validate(input_pass):\n",
    "    print('Valid Password!')\n",
    "else:\n",
    "    print('Invalid Password! ')\n",
    "\n",
    "input_date = input('Enter date in this format(DD/MM/YYYY) to validate:')\n",
    "if date_validator(input_date):\n",
    "    print('Valid date! ')\n",
    "else:\n",
    "    print('Invalid Date!')\n",
    "\n",
    "        \n"
   ]
  },
  {
   "cell_type": "code",
   "execution_count": null,
   "id": "37cb3a16",
   "metadata": {},
   "outputs": [
    {
     "name": "stdout",
     "output_type": "stream",
     "text": [
      "Email found:  ['hgithu@gmail.com', 'nduatihump@gmail.com']\n",
      "Phone numbers found:  ['0721-486-421']\n"
     ]
    }
   ],
   "source": [
    "# 4. program to extract information such as phone numbers, email addresses using regex\n",
    "import re\n",
    "def email_extractor(text):\n",
    "    \"\"\"\n",
    "    extract all email adresses from a given text\n",
    "    \"\"\"\n",
    "    pattern = r'[a-zA-Z0-9_.+-]+@[a-zA-Z0-9-]+\\.[a-zA-Z0-9-.]+'\n",
    "    return re.findall(pattern, text)\n",
    "\n",
    "def phone_number_extractor(int):\n",
    "    \"\"\"\n",
    "    extract phone numbers in the format XXXX-XXX_XXX\n",
    "    \"\"\"\n",
    "    pattern = r'\\b\\d{4}-\\d{3}-\\d{3}\\b'\n",
    "    return re.findall(pattern, int)\n",
    "\n",
    "input_str = input('Enter a text to extract information from: ')\n",
    "\n",
    "emails = email_extractor(input_str)\n",
    "phone_number = phone_number_extractor(input_str)\n",
    "print('Email found: ', emails)\n",
    "print('Phone numbers found: ', phone_number)"
   ]
  },
  {
   "cell_type": "code",
   "execution_count": 7,
   "id": "d2008d99",
   "metadata": {},
   "outputs": [
    {
     "name": "stdout",
     "output_type": "stream",
     "text": [
      "Modified Txt:  my names are Ms nduati githu\n"
     ]
    }
   ],
   "source": [
    "# 5. program to search and replace text in a string i.e replace all occurances or Mr.with Ms .text.replace(r'Mr','Ms.'(rprefix for rawstring)\n",
    "def word_replace(text, old, new):\n",
    "    \"\"\"search for all occurrences of a word and replace it\"\"\"\n",
    "    pattern = rf'{old}'\n",
    "    return re.sub(pattern, new, text)\n",
    "\n",
    "input_str = input('Enter a txt: ')\n",
    "old_word = input('Enter the word to be replaced i.e Mr. :')\n",
    "new_word = input('Enter the new word i.e Ms.: ')\n",
    "\n",
    "result = word_replace(input_str, old_word, new_word)\n",
    "print('Modified Txt: ', result)"
   ]
  }
 ],
 "metadata": {
  "kernelspec": {
   "display_name": "Python 3",
   "language": "python",
   "name": "python3"
  },
  "language_info": {
   "codemirror_mode": {
    "name": "ipython",
    "version": 3
   },
   "file_extension": ".py",
   "mimetype": "text/x-python",
   "name": "python",
   "nbconvert_exporter": "python",
   "pygments_lexer": "ipython3",
   "version": "3.13.3"
  }
 },
 "nbformat": 4,
 "nbformat_minor": 5
}
