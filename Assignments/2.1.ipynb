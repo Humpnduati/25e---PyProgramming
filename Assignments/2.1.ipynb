{
 "cells": [
  {
   "cell_type": "code",
   "execution_count": null,
   "id": "f52ef6a3",
   "metadata": {},
   "outputs": [],
   "source": [
    "#1. count the number of words in a sentence\n",
    "def count_words(sentence):\n",
    "    words = sentence.split() #split sentence into words\n",
    "    return len(words)\n",
    "\n",
    "user_input = input('Enter a sentence:')\n",
    "word_count = count_words(user_input)  #count and display the number of words\n",
    "print('Number of words: ', word_count)"
   ]
  },
  {
   "cell_type": "code",
   "execution_count": null,
   "id": "953c5818",
   "metadata": {},
   "outputs": [],
   "source": [
    "#2. program to check if 2 strings are anagrams\n",
    "def anagrams(str1, str2):       #remove spaces & convert to .lowercase() for accurate comparison\n",
    "    str1 = str1.replace(' ', '').lower()\n",
    "    str2 = str2.replace(' ', '').lower()\n",
    "    return sorted(str1) == sorted(str2)     #check if sorted chararcters of both strings are the same\n",
    "\n",
    "string1 = input('Enter the first string: ')\n",
    "string2 = input('Enter the second string: ')\n",
    "\n",
    "if anagrams(string1, string2):              #check & display results\n",
    "    print('The strings are Anagrams!')\n",
    "else:\n",
    "    print('The string are not Anagrams!')\n",
    "    \n",
    "    "
   ]
  },
  {
   "cell_type": "code",
   "execution_count": null,
   "id": "e178c063",
   "metadata": {},
   "outputs": [],
   "source": [
    "#3. program to check if a string is a palindrome(ignoring case and punctuation)\n",
    "import string\n",
    "def palindrome(word):       #convert to lowercase()\n",
    "    word = word.lower()\n",
    "    word1 = ''.join(char for char in word if char.isalnum())        #remove puncuations and spaces\n",
    "    return word1 == word1[::-1]         #check if the word1 is the same forwards and backwards\n",
    "\n",
    "user_input = input('Enter a string: ')\n",
    "\n",
    "if palindrome(user_input):\n",
    "    print('The string is a palindrome.')\n",
    "else:\n",
    "    print('The string ia not a palindrome.')"
   ]
  },
  {
   "cell_type": "code",
   "execution_count": null,
   "id": "678a679a",
   "metadata": {},
   "outputs": [],
   "source": [
    "#4. #program to copy contents from one file to another\n",
    "def copy_file(source_file, destination_file):\n",
    "    try:\n",
    "        with open(source_file, 'r') as src:\n",
    "            content = src.read()\n",
    "        with open(destination_file, 'w') as dest:\n",
    "            dest.write(content)\n",
    "        print(f'Contents copied from',{source_file},'to',{destination_file},'successfully.')\n",
    "    except FileNotFoundError:\n",
    "        print(f'The file',{source_file},'does not exist.')\n",
    "    except Exception as e:\n",
    "        print(f'An error occured: {e}')\n",
    "        \n",
    "src_file = input('Enter the name of the source file: ')\n",
    "dest_file = input('Enter the name of the destination file: ')\n",
    "\n",
    "copy_file(src_file, dest_file)\n"
   ]
  },
  {
   "cell_type": "code",
   "execution_count": 11,
   "id": "b47bc299",
   "metadata": {},
   "outputs": [
    {
     "name": "stdout",
     "output_type": "stream",
     "text": [
      "The file {'mbox.txt'} does not exist.\n"
     ]
    }
   ],
   "source": [
    "#5. program to read a file and print each line separately\n",
    "def file_lines(filename):\n",
    "    try:\n",
    "        with open(filename, 'r') as file:\n",
    "            for line in file:\n",
    "                print(line.strip())\n",
    "    except FileNotFoundError:\n",
    "        print(f'The file',{filename},'does not exist.')\n",
    "    except Exception as e:\n",
    "        print(f'An error occurred: {e}')\n",
    "\n",
    "file_name = input('Enter the name of the text file: ')\n",
    "\n",
    "file_lines(file_name)"
   ]
  }
 ],
 "metadata": {
  "kernelspec": {
   "display_name": "Python 3",
   "language": "python",
   "name": "python3"
  },
  "language_info": {
   "codemirror_mode": {
    "name": "ipython",
    "version": 3
   },
   "file_extension": ".py",
   "mimetype": "text/x-python",
   "name": "python",
   "nbconvert_exporter": "python",
   "pygments_lexer": "ipython3",
   "version": "3.13.3"
  }
 },
 "nbformat": 4,
 "nbformat_minor": 5
}
