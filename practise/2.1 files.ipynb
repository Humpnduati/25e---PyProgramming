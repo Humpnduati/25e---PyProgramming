{
 "cells": [
  {
   "cell_type": "code",
   "execution_count": null,
   "id": "faa8e3f8",
   "metadata": {},
   "outputs": [],
   "source": [
    "# opening files\n",
    "fhand = open('mbox.txt')\n",
    "print(fhand)\n"
   ]
  }
 ],
 "metadata": {
  "kernelspec": {
   "display_name": "Python 3",
   "language": "python",
   "name": "python3"
  },
  "language_info": {
   "codemirror_mode": {
    "name": "ipython",
    "version": 3
   },
   "file_extension": ".py",
   "mimetype": "text/x-python",
   "name": "python",
   "nbconvert_exporter": "python",
   "pygments_lexer": "ipython3",
   "version": "3.13.3"
  }
 },
 "nbformat": 4,
 "nbformat_minor": 5
}
