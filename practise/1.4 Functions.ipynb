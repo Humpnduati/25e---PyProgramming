{
 "cells": [
  {
   "cell_type": "code",
   "execution_count": 16,
   "id": "66f7a004",
   "metadata": {},
   "outputs": [
    {
     "data": {
      "text/plain": [
       "' '"
      ]
     },
     "execution_count": 16,
     "metadata": {},
     "output_type": "execute_result"
    }
   ],
   "source": [
    "# max #min functions\n",
    "max ('Hello World')\n",
    "\n",
    "min ('Hello World')"
   ]
  },
  {
   "cell_type": "code",
   "execution_count": 17,
   "id": "d2319153",
   "metadata": {},
   "outputs": [
    {
     "name": "stdout",
     "output_type": "stream",
     "text": [
      "11\n"
     ]
    }
   ],
   "source": [
    "#lenght function\n",
    "len ('Hello World')\n",
    "\n",
    "print (len ('Hello World'))\n"
   ]
  },
  {
   "cell_type": "code",
   "execution_count": null,
   "id": "7188bbb7",
   "metadata": {},
   "outputs": [],
   "source": [
    "#integer function int\n",
    "int('1234')\n",
    "\n",
    "int('Hello World')\n",
    "\n",
    "int(3.9004454)\n"
   ]
  },
  {
   "cell_type": "code",
   "execution_count": null,
   "id": "c8fbade4",
   "metadata": {},
   "outputs": [
    {
     "data": {
      "text/plain": [
       "32.0"
      ]
     },
     "execution_count": 15,
     "metadata": {},
     "output_type": "execute_result"
    }
   ],
   "source": [
    "#float function\n",
    "float('45563')\n",
    "\n",
    "float(32)"
   ]
  },
  {
   "cell_type": "code",
   "execution_count": null,
   "id": "362d7d6c",
   "metadata": {},
   "outputs": [],
   "source": [
    "#string function\n",
    "str('wee')\n",
    "\n",
    "str(1234)\n",
    "\n",
    "str(3.9004454)\n",
    "\n"
   ]
  },
  {
   "cell_type": "code",
   "execution_count": null,
   "id": "152a3f09",
   "metadata": {},
   "outputs": [
    {
     "name": "stdout",
     "output_type": "stream",
     "text": [
      "<module 'math' (built-in)>\n"
     ]
    }
   ],
   "source": [
    "#MATH FUNCTIONS import math\n",
    "import math\n",
    "print (math)\n",
    "\n",
    "# <module 'math' (built-in)> #math -->>module object\n"
   ]
  },
  {
   "cell_type": "code",
   "execution_count": 24,
   "id": "c7a1ad9a",
   "metadata": {},
   "outputs": [
    {
     "name": "stdout",
     "output_type": "stream",
     "text": [
      "The signal to noise ratio is 8.62205942706113 dB\n"
     ]
    }
   ],
   "source": [
    "#MATH FUNCTIONS #dot notation\n",
    "signal_power = input('Enter the signal power in dBm: ')\n",
    "noise_power = input('Enter the noise power in dBm: ')\n",
    "ratio = float(signal_power) / float(noise_power)\n",
    "decibels = 10 * math.log10(ratio)\n",
    "print('The signal to noise ratio is', decibels, 'dB')"
   ]
  },
  {
   "cell_type": "code",
   "execution_count": null,
   "id": "51732eb4",
   "metadata": {},
   "outputs": [],
   "source": [
    "#MATH FUNCTIONS #dot notation\n",
    "radians = input('Enter the angle in radians: ')\n",
    "height = math.sin(float(radians))\n",
    "print('The height of the point is', height)"
   ]
  },
  {
   "cell_type": "code",
   "execution_count": 27,
   "id": "d7505046",
   "metadata": {},
   "outputs": [
    {
     "name": "stdout",
     "output_type": "stream",
     "text": [
      "The angle in radians is: 1.5184364492350666\n"
     ]
    }
   ],
   "source": [
    "#CONVERT FROM DEGREES TO RADIANS\n",
    "degrees = input('Enter the angle in degrees: ')\n",
    "radians = float(degrees) / 360 * 2 * math.pi\n",
    "math.sin(float(radians))\n",
    "print('The angle in radians is:', radians)"
   ]
  },
  {
   "cell_type": "code",
   "execution_count": 29,
   "metadata": {},
   "outputs": [
    {
     "name": "stdout",
     "output_type": "stream",
     "text": [
      "0.8397816074144004\n",
      "0.23929778925657164\n",
      "0.05090544179448031\n",
      "0.4863827337194384\n",
      "0.26302451402131954\n",
      "0.08295953027207226\n",
      "0.8736046636913873\n",
      "0.30786263454180285\n",
      "0.9458314450450134\n",
      "0.06786796646745108\n",
      "0.3614120020128768\n",
      "0.2713617604895858\n",
      "0.010478588575543957\n",
      "0.391139720521098\n",
      "0.03524752623357297\n",
      "0.4093898203470796\n",
      "0.6805195137002397\n",
      "0.003626220333865504\n",
      "0.3663041661398475\n",
      "0.7085111582026355\n",
      "0.016253967440648\n",
      "0.7996972319660115\n",
      "0.028147053829376767\n",
      "0.8490089411520378\n",
      "0.21366068733330168\n",
      "0.46218826526398105\n",
      "0.5194739491345647\n",
      "0.5095657950876855\n",
      "0.5293979786390568\n",
      "0.7448490485185875\n",
      "0.5576050094970195\n",
      "0.13375161734383534\n",
      "0.2184878341642985\n",
      "0.07614778693864344\n",
      "0.19565126174656855\n",
      "0.7008519097954355\n",
      "0.3244482509698686\n",
      "0.24907984196776223\n",
      "0.12718446141433648\n",
      "0.07477486682741841\n",
      "0.9665625078191372\n",
      "0.218458257562977\n",
      "0.6283530269412902\n",
      "0.6478990093798741\n",
      "0.30317723713549793\n",
      "0.9908432624955547\n",
      "0.7101307542323981\n",
      "0.6609702840345901\n",
      "0.6967437744157027\n",
      "0.09951328382788649\n",
      "0.9560122812823456\n",
      "0.0175715377425657\n",
      "0.5764521353835077\n",
      "0.2734652850474183\n",
      "0.13649591784563841\n",
      "0.441494454349191\n",
      "0.6884234820629214\n",
      "0.6697072759221463\n",
      "0.04790704420254355\n",
      "0.2908060454224787\n",
      "0.3298953621393931\n",
      "0.12714405684645647\n",
      "0.710148660561138\n",
      "0.12453004227061382\n",
      "0.7633325896621533\n",
      "0.1556859428428381\n",
      "0.14704267823700745\n",
      "0.7287995978194839\n",
      "0.4117365177372263\n",
      "0.47430613722080306\n",
      "0.6436193840926935\n",
      "0.253255604503711\n",
      "0.9727603620663046\n",
      "0.24330390496438647\n",
      "0.3369085883372879\n",
      "0.4675862587816484\n",
      "0.5569289796542894\n",
      "0.44620575757011416\n",
      "0.5010851529769323\n",
      "0.5644915659866855\n",
      "0.6771450077764009\n",
      "0.9732432981441288\n",
      "0.9828165830437401\n",
      "0.8608882027772583\n",
      "0.22470377001944408\n",
      "0.4684063644780283\n",
      "0.06504517227966145\n",
      "0.06523421234706528\n",
      "0.8103608527372628\n",
      "0.5785518394603778\n",
      "0.14915450935935215\n",
      "0.6747323141664894\n",
      "0.754413511708912\n",
      "0.3799277429694268\n",
      "0.6250497498114904\n",
      "0.36358379557970855\n",
      "0.456329188479626\n",
      "0.7442902176520784\n",
      "0.3815930901169228\n",
      "0.49531249187400017\n"
     ]
    }
   ],
   "source": [
    "#RANDOM NUMBERS\n",
    "import random\n",
    "for i in range(100):\n",
    "    x = random.random()\n",
    "    print(x)\n",
    "\n"
   ]
  },
  {
   "cell_type": "code",
   "execution_count": 32,
   "metadata": {},
   "outputs": [
    {
     "data": {
      "text/plain": [
       "84"
      ]
     },
     "execution_count": 32,
     "metadata": {},
     "output_type": "execute_result"
    }
   ],
   "source": [
    "import random\n",
    "random.randint(5, 10)\n",
    "random.randint(1, 100)\n"
   ]
  },
  {
   "cell_type": "code",
   "execution_count": null,
   "id": "82ef6229",
   "metadata": {},
   "outputs": [
    {
     "name": "stdout",
     "output_type": "stream",
     "text": [
      "Random number between 1 and 100 is 21\n"
     ]
    }
   ],
   "source": [
    "#RANDOM #RANDINT\n",
    "# Generate a random integer between a given positive number\n",
    "a = random.randint(1, 100)\n",
    "print('Random number between 1 and 100 is % s:' %(a))\n"
   ]
  },
  {
   "cell_type": "code",
   "execution_count": 37,
   "id": "f809cfba",
   "metadata": {},
   "outputs": [
    {
     "name": "stdout",
     "output_type": "stream",
     "text": [
      "Random number between -75 and -34 is -40:\n"
     ]
    }
   ],
   "source": [
    "#Generate a random number betwwen two given negative range\n",
    "a = random.randint(-75, -34)\n",
    "print('Random number between -75 and -34 is % d:' %(a))\n"
   ]
  },
  {
   "cell_type": "code",
   "execution_count": 38,
   "id": "1c0cf8e9",
   "metadata": {},
   "outputs": [
    {
     "name": "stdout",
     "output_type": "stream",
     "text": [
      "Random number between -100 and 100 is  83:\n"
     ]
    }
   ],
   "source": [
    "#Generate a random number between a positive and negative range\n",
    "a = random.randint(-100, 100)\n",
    "print('Random number between -100 and 100 is % d:' %(a))"
   ]
  }
 ],
 "metadata": {
  "kernelspec": {
   "display_name": "Python 3",
   "language": "python",
   "name": "python3"
  },
  "language_info": {
   "codemirror_mode": {
    "name": "ipython",
    "version": 3
   },
   "file_extension": ".py",
   "mimetype": "text/x-python",
   "name": "python",
   "nbconvert_exporter": "python",
   "pygments_lexer": "ipython3",
   "version": "3.13.3"
  }
 },
 "nbformat": 4,
 "nbformat_minor": 5
}
