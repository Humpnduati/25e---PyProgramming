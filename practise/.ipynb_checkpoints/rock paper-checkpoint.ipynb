{
 "cells": [
  {
   "cell_type": "code",
   "execution_count": null,
   "id": "7161498e",
   "metadata": {},
   "outputs": [
    {
     "name": "stdin",
     "output_type": "stream",
     "text": [
      "Rock, Paper or  Scissors? rock\n"
     ]
    },
    {
     "name": "stdout",
     "output_type": "stream",
     "text": [
      "1 Rock smashes Scissors\n"
     ]
    }
   ],
   "source": [
    "import random\n",
    "choices = ['Rock', 'Paper', 'Scissors']\n",
    "computer = random.choice(choices)\n",
    "player = False\n",
    "computer_score = 0\n",
    "player_score = 0\n",
    "final_score = 3\n",
    "\n",
    "while True:\n",
    "    final_score > player_score and final_score > computer_score\n",
    "    player = input('Rock, Paper or  Scissors?').capitalize()\n",
    "\n",
    "\n",
    "    if player == computer:\n",
    "        print(0)\n",
    "    elif player == 'Rock':\n",
    "        if computer == 'Paper':\n",
    "            print(-1, computer, 'covers', player)\n",
    "            computer_score +=1\n",
    "        else:\n",
    "            print( 1 , player, 'smashes', computer)\n",
    "            player_score += 1\n",
    "    elif player == 'Paper':\n",
    "        if computer == 'Scissors':\n",
    "            print(-1 , computer, 'cut', player)\n",
    "            computer_score += 1\n",
    "        else:\n",
    "            print( 1 , player, 'covers', computer)\n",
    "            player_score += 1\n",
    "    elif player == 'Scissors':\n",
    "        if computer == 'Rock':\n",
    "            print(-1 , computer, 'smashes', player)\n",
    "            computer_score += 1\n",
    "        else:\n",
    "            print(1 , player, 'cut', computer)\n",
    "            player_score += 1\n",
    "    elif player == 'End':\n",
    "        print('Final Scores:')\n",
    "        print('CPU:{computer_score}')\n",
    "        print('Player:{player_score}')\n",
    "\n",
    "        if player_score > computer_score:\n",
    "            print('CONGRATS, YOU WON!')\n",
    "        elif player_score == computer_score:\n",
    "            print(\"IT'S A TIE\")\n",
    "        else:\n",
    "            print('OH NO :( THE COMPUTER WON...')\n",
    "        break\n",
    "\n"
   ]
  },
  {
   "cell_type": "code",
   "execution_count": null,
   "id": "544fb4ab",
   "metadata": {},
   "outputs": [],
   "source": []
  }
 ],
 "metadata": {
  "kernelspec": {
   "display_name": "Python 3 (ipykernel)",
   "language": "python",
   "name": "python3"
  },
  "language_info": {
   "codemirror_mode": {
    "name": "ipython",
    "version": 3
   },
   "file_extension": ".py",
   "mimetype": "text/x-python",
   "name": "python",
   "nbconvert_exporter": "python",
   "pygments_lexer": "ipython3",
   "version": "3.13.3"
  }
 },
 "nbformat": 4,
 "nbformat_minor": 5
}
