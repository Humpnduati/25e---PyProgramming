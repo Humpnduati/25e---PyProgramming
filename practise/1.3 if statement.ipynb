{
 "cells": [
  {
   "cell_type": "code",
   "execution_count": 2,
   "id": "d43820f2",
   "metadata": {},
   "outputs": [
    {
     "name": "stdout",
     "output_type": "stream",
     "text": [
      "bigger\n",
      "Finis\n"
     ]
    }
   ],
   "source": [
    "x = int(input('Enter a  value of x: '))\n",
    "if x < 10:\n",
    "    print('smaller')\n",
    "if x > 20:\n",
    "    print('bigger')\n",
    "print('Finis')"
   ]
  },
  {
   "cell_type": "code",
   "execution_count": 3,
   "id": "7cbed102",
   "metadata": {},
   "outputs": [
    {
     "name": "stdout",
     "output_type": "stream",
     "text": [
      "Less than 6\n",
      "Less than or equal to 5\n",
      "Not equal to 6\n"
     ]
    }
   ],
   "source": [
    "x = int(input('Enter a  value of x: '))\n",
    "if x == 5:\n",
    "    print('Equals 5')\n",
    "if x > 4:\n",
    "    print('Greater than 4')\n",
    "if x >= 5:\n",
    "    print('Greater than or equal to 5')\n",
    "if x < 6:\n",
    "    print('Less than 6')\n",
    "if x <= 5:\n",
    "    print('Less than or equal to 5')\n",
    "if x != 6:\n",
    "    print('Not equal to 6')"
   ]
  },
  {
   "cell_type": "code",
   "execution_count": 5,
   "id": "541b5f73",
   "metadata": {},
   "outputs": [
    {
     "name": "stdout",
     "output_type": "stream",
     "text": [
      "More than 1\n",
      "Less than 100\n",
      "All done\n"
     ]
    }
   ],
   "source": [
    "#Nested if statements\n",
    "x = int(input('Enter a  value of x: '))\n",
    "if x > 1:\n",
    "    print('More than 1')\n",
    "    if x < 100:\n",
    "        print('Less than 100')\n",
    "print('All done')"
   ]
  },
  {
   "cell_type": "code",
   "execution_count": 6,
   "id": "bcc6fb22",
   "metadata": {},
   "outputs": [
    {
     "name": "stdout",
     "output_type": "stream",
     "text": [
      "Bigger\n",
      "All done\n"
     ]
    }
   ],
   "source": [
    "#two-way if else statements\n",
    "x = int(input('Enter a  value of x: '))\n",
    "if x > 2 :\n",
    "    print('Bigger')\n",
    "else:\n",
    "    print('Smaller')\n",
    "print('All done')"
   ]
  },
  {
   "cell_type": "code",
   "execution_count": null,
   "id": "40c0096a",
   "metadata": {},
   "outputs": [
    {
     "name": "stdout",
     "output_type": "stream",
     "text": [
      "Odd\n"
     ]
    }
   ],
   "source": [
    "#two-way if else statements #with even or odd check\n",
    "x = int(input('Enter a  value of x: '))\n",
    "if x % 2 == 0:\n",
    "    print('Even')\n",
    "else:\n",
    "    print('Odd')\n",
    "#Two-way if else statements with multiple conditions"
   ]
  },
  {
   "cell_type": "code",
   "execution_count": 8,
   "id": "17e349f6",
   "metadata": {},
   "outputs": [
    {
     "name": "stdout",
     "output_type": "stream",
     "text": [
      "x is less than y\n"
     ]
    }
   ],
   "source": [
    "#nested conditionals#3-way if else statements\n",
    "x = int(input('Enter a  value of x: '))\n",
    "y = int(input('Enter a  value of y: '))\n",
    "if x == y:\n",
    "    print('x is equal to y')\n",
    "else:\n",
    "    if x < y:\n",
    "        print('x is less than y')\n",
    "    else:\n",
    "        print('x is greater than y')"
   ]
  }
 ],
 "metadata": {
  "kernelspec": {
   "display_name": "Python 3",
   "language": "python",
   "name": "python3"
  },
  "language_info": {
   "codemirror_mode": {
    "name": "ipython",
    "version": 3
   },
   "file_extension": ".py",
   "mimetype": "text/x-python",
   "name": "python",
   "nbconvert_exporter": "python",
   "pygments_lexer": "ipython3",
   "version": "3.13.3"
  }
 },
 "nbformat": 4,
 "nbformat_minor": 5
}
