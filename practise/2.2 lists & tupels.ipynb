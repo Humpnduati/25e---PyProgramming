{
 "cells": [
  {
   "cell_type": "code",
   "execution_count": 5,
   "id": "c33e190d",
   "metadata": {},
   "outputs": [
    {
     "name": "stdout",
     "output_type": "stream",
     "text": [
      "['Cheddar', 'Edem', 'Gouda'] [13.3, 17, 18, 123, 56] []\n"
     ]
    }
   ],
   "source": [
    "cheeses = [ 'Cheddar', 'Edem', 'Gouda']\n",
    "numbers = [13.3, 17, 18, 123, 56]\n",
    "empty = []\n",
    "print(cheeses, numbers, empty)\n",
    "\n",
    "\n"
   ]
  },
  {
   "cell_type": "code",
   "execution_count": 8,
   "id": "23250125",
   "metadata": {},
   "outputs": [
    {
     "name": "stdout",
     "output_type": "stream",
     "text": [
      "Gouda\n"
     ]
    }
   ],
   "source": [
    "print(cheeses[2])"
   ]
  },
  {
   "cell_type": "code",
   "execution_count": 18,
   "id": "2b37b0c4",
   "metadata": {},
   "outputs": [
    {
     "name": "stdout",
     "output_type": "stream",
     "text": [
      "[13.3, 17, 56.5, 123, 56]\n"
     ]
    }
   ],
   "source": [
    "# mutable lists variable[]= lo\n",
    "numbers = [13.3, 17, 18, 123, 56]\n",
    "numbers[2] = 56.5\n",
    "print(numbers)"
   ]
  },
  {
   "cell_type": "code",
   "execution_count": 5,
   "id": "d495b192",
   "metadata": {},
   "outputs": [
    {
     "data": {
      "text/plain": [
       "False"
      ]
     },
     "execution_count": 5,
     "metadata": {},
     "output_type": "execute_result"
    }
   ],
   "source": [
    "# IN operator on lists\n",
    "'adam' in numbers"
   ]
  },
  {
   "cell_type": "code",
   "execution_count": null,
   "id": "7af9de6b",
   "metadata": {},
   "outputs": [
    {
     "name": "stdout",
     "output_type": "stream",
     "text": [
      "Cheddar\n",
      "Edem\n",
      "Gouda\n"
     ]
    }
   ],
   "source": [
    "#Traversing elements in a list # for loop #reading elements in a list\n",
    "cheeses = [ 'Cheddar', 'Edem', 'Gouda']\n",
    "for cheese in cheeses:\n",
    "    print(cheese)"
   ]
  },
  {
   "cell_type": "code",
   "execution_count": 17,
   "id": "8110efa3",
   "metadata": {},
   "outputs": [
    {
     "name": "stdout",
     "output_type": "stream",
     "text": [
      "12768.000000000002\n",
      "16320\n",
      "54240.0\n",
      "118080\n",
      "53760\n"
     ]
    }
   ],
   "source": [
    "for num in numbers:\n",
    "    print(num)"
   ]
  },
  {
   "cell_type": "code",
   "execution_count": null,
   "id": "0ce8f8a4",
   "metadata": {},
   "outputs": [],
   "source": [
    "# WRITE OR UPDATE ELEMENTS ON LIST #COMBINE range AND len FUNCTION\n",
    "for i in range(len(numbers)):\n",
    "    numbers[i] = numbers[i] * 2\n",
    "    print(numbers)\n",
    "    "
   ]
  },
  {
   "cell_type": "code",
   "execution_count": 19,
   "id": "2829200f",
   "metadata": {},
   "outputs": [
    {
     "name": "stdout",
     "output_type": "stream",
     "text": [
      "[1, 2, 3, 4, 'John', 'Jane', 5, 6, 7]\n"
     ]
    }
   ],
   "source": [
    "#LIST OPERATORS (+)(*)\n",
    "a = [1, 2, 3, 4, 'John']\n",
    "b= ['Jane', 5, 6, 7]\n",
    "c = a + b\n",
    "print(c)"
   ]
  },
  {
   "cell_type": "code",
   "execution_count": null,
   "id": "588df6a9",
   "metadata": {},
   "outputs": [],
   "source": [
    "a * 2\n"
   ]
  },
  {
   "cell_type": "code",
   "execution_count": 26,
   "id": "2bbdba88",
   "metadata": {},
   "outputs": [
    {
     "name": "stdout",
     "output_type": "stream",
     "text": [
      "['b', 'c']\n",
      "['a', 'b', 'c', 'd']\n",
      "['d', 'e', 'f']\n",
      "['a', 'b', 'c', 'd', 'e', 'f']\n"
     ]
    }
   ],
   "source": [
    "#LIST SLICES\n",
    "t = ['a', 'b', 'c', 'd', 'e', 'f']\n",
    "print(t[1:3])\n",
    "\n",
    "print(t[:4])\n",
    "\n",
    "print(t[3:])\n",
    "\n",
    "print(t[:])"
   ]
  },
  {
   "cell_type": "code",
   "execution_count": 27,
   "id": "649fa0f9",
   "metadata": {},
   "outputs": [
    {
     "name": "stdout",
     "output_type": "stream",
     "text": [
      "['a', 'y', 'z', 'd', 'e', 'f']\n"
     ]
    }
   ],
   "source": [
    "#updating multiple elements using slice operator\n",
    "t[1:3] = ['y', 'z']\n",
    "print(t)"
   ]
  },
  {
   "cell_type": "code",
   "execution_count": 30,
   "id": "62d794c3",
   "metadata": {},
   "outputs": [
    {
     "name": "stdout",
     "output_type": "stream",
     "text": [
      "[1, 2, 3, 'jane', 'd']\n"
     ]
    }
   ],
   "source": [
    "#LIST METHODS #append #extend #sort\n",
    "#append\n",
    "t = [1, 2, 3, 'jane']\n",
    "t.append('d')\n",
    "print(t)"
   ]
  },
  {
   "cell_type": "code",
   "execution_count": 38,
   "id": "48b03c8b",
   "metadata": {},
   "outputs": [
    {
     "name": "stdout",
     "output_type": "stream",
     "text": [
      "['r', 'h', 'l', 'a', 'b']\n"
     ]
    }
   ],
   "source": [
    "#extend\n",
    "a = ['r', 'h', 'l']\n",
    "p = ['a', 'b']\n",
    "a.extend(p)\n",
    "print(a)"
   ]
  },
  {
   "cell_type": "code",
   "execution_count": 53,
   "id": "5c13d674",
   "metadata": {},
   "outputs": [
    {
     "name": "stdout",
     "output_type": "stream",
     "text": [
      "['a', 'b', 'h', 'l', 'r']\n"
     ]
    }
   ],
   "source": [
    "#sort\n",
    "a = ['r', 'h', 'l', 'a', 'b']\n",
    "a.sort()\n",
    "print(a)\n"
   ]
  },
  {
   "cell_type": "code",
   "execution_count": 59,
   "metadata": {},
   "outputs": [
    {
     "name": "stdout",
     "output_type": "stream",
     "text": [
      "['a', 'b', 'l', 'r']\n",
      "h\n"
     ]
    }
   ],
   "source": [
    "#DELETING ELEMENTS #pop #remove #del\n",
    "#pop with index\n",
    "a = ['a', 'b', 'h', 'l', 'r']\n",
    "x = a.pop(2)\n",
    "print(a)\n",
    "print(x)"
   ]
  },
  {
   "cell_type": "code",
   "execution_count": null,
   "id": "9019a681",
   "metadata": {},
   "outputs": [
    {
     "name": "stdout",
     "output_type": "stream",
     "text": [
      "['a', 'h', 'l', 'r']\n",
      "['a', 'r']\n"
     ]
    }
   ],
   "source": [
    "#del #del with indexs #deleting more than one element\n",
    "t = ['a', 'b', 'h', 'l', 'r']\n",
    "del t[1]\n",
    "print(t)\n",
    "\n",
    "del t[1:3]\n",
    "print(t)"
   ]
  },
  {
   "cell_type": "code",
   "execution_count": 76,
   "id": "40f707f8",
   "metadata": {},
   "outputs": [
    {
     "name": "stdout",
     "output_type": "stream",
     "text": [
      "['b', 'h', 'l', 'r']\n",
      "r\n"
     ]
    }
   ],
   "source": [
    "#remove\n",
    "t = ['a', 'b', 'h', 'l', 'r']\n",
    "t.remove('a')\n",
    "print(t)\n",
    "\n",
    "print(max(t))\n"
   ]
  },
  {
   "cell_type": "code",
   "execution_count": 75,
   "id": "70e45ab5",
   "metadata": {},
   "outputs": [
    {
     "name": "stdout",
     "output_type": "stream",
     "text": [
      "9\n",
      "123\n",
      "2\n",
      "439.3\n",
      "48.81111111111111\n"
     ]
    }
   ],
   "source": [
    "#in-built functions #len #max #min #sum\n",
    "num = [13.3, 17, 18, 123, 56, 44, 87, 2, 79]\n",
    "print(len(num))\n",
    "\n",
    "print(max(num))\n",
    "\n",
    "print(min(num))\n",
    "\n",
    "print(sum(num))\n",
    "\n",
    "print(sum(num) / len(num))"
   ]
  },
  {
   "cell_type": "code",
   "execution_count": 77,
   "id": "2c6e095d",
   "metadata": {},
   "outputs": [
    {
     "name": "stdout",
     "output_type": "stream",
     "text": [
      "Average:  4.434782608695652\n"
     ]
    }
   ],
   "source": [
    "#PROGRAM TO COMPUTE AVERAGE WITHOUT A LIST #WHILE LOOP\n",
    "total = 0\n",
    "count = 0\n",
    "while (True):\n",
    "    inp = input('Enter number:')\n",
    "    if inp == 'done': break\n",
    "    value = float(inp)\n",
    "    total = total + value\n",
    "    count = count + 1\n",
    "    \n",
    "average = total / value\n",
    "print('Average: ', average)\n",
    "    "
   ]
  },
  {
   "cell_type": "code",
   "execution_count": 80,
   "id": "3dc2e268",
   "metadata": {},
   "outputs": [
    {
     "name": "stdout",
     "output_type": "stream",
     "text": [
      "Average:  4.0\n"
     ]
    }
   ],
   "source": [
    "#PROGRAM TO COMPUTE AVERAGE WITH A LIST #WHILE LOOP\n",
    "numlist = list()\n",
    "while (True):\n",
    "    inp = input('Enter a number: ')\n",
    "    if inp == 'done': break\n",
    "    value = float(inp)\n",
    "    numlist.append (value)\n",
    "average = sum(numlist) / len(numlist)\n",
    "print('Average: ', average)"
   ]
  }
 ],
 "metadata": {
  "kernelspec": {
   "display_name": "Python 3",
   "language": "python",
   "name": "python3"
  },
  "language_info": {
   "codemirror_mode": {
    "name": "ipython",
    "version": 3
   },
   "file_extension": ".py",
   "mimetype": "text/x-python",
   "name": "python",
   "nbconvert_exporter": "python",
   "pygments_lexer": "ipython3",
   "version": "3.13.3"
  }
 },
 "nbformat": 4,
 "nbformat_minor": 5
}
