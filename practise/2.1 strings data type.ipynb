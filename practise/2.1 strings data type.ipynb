{
 "cells": [
  {
   "cell_type": "code",
   "execution_count": null,
   "id": "2c78606f",
   "metadata": {},
   "outputs": [],
   "source": [
    "#BRACKET OPERATOR #STRING INDEXING\n",
    "\n",
    "fruit = 'bananas'\n",
    "letter = fruit[1]\n",
    "print(letter)\n",
    "letter = fruit[3]\n",
    "print(letter)"
   ]
  },
  {
   "cell_type": "code",
   "execution_count": null,
   "id": "50c7818f",
   "metadata": {},
   "outputs": [
    {
     "name": "stdout",
     "output_type": "stream",
     "text": [
      "7\n"
     ]
    }
   ],
   "source": [
    "# LENGTH OF A STRING\n",
    "fruit = 'bananas'\n",
    "length = len(fruit)\n",
    "print(length)"
   ]
  },
  {
   "cell_type": "code",
   "execution_count": null,
   "id": "30b9081c",
   "metadata": {},
   "outputs": [],
   "source": [
    "# last character of a string\n",
    "length = len(fruit)\n",
    "last_letter = fruit[length-1]\n",
    "print(last_letter)\n",
    "second_last_letter = fruit[length-2]\n",
    "print(second_last_letter)"
   ]
  },
  {
   "cell_type": "code",
   "execution_count": null,
   "id": "359b4590",
   "metadata": {},
   "outputs": [],
   "source": [
    "# traversing a string #while loop\n",
    "index = 0\n",
    "while index < len(fruit):\n",
    "    letter = fruit[index]\n",
    "    print(letter)\n",
    "    index = index + 1 #this loop will print each letter in the string 'bananas'\n",
    "# traversing a string "
   ]
  },
  {
   "cell_type": "code",
   "execution_count": null,
   "id": "75b9d9fc",
   "metadata": {},
   "outputs": [],
   "source": [
    "#moving backwards through a string #while loop\n",
    "index = len(fruit) -1   #its initialized to the last index of the string\n",
    "while index >= 0:       #the loop will run until index is greater than or equal to 0\n",
    "    letter = fruit[index]\n",
    "    print(letter)\n",
    "    index = index - 1"
   ]
  },
  {
   "cell_type": "code",
   "execution_count": null,
   "id": "ee67503b",
   "metadata": {},
   "outputs": [],
   "source": [
    "# traversing a string #for loop\n",
    "for char in fruit:\n",
    "    print(char ) #this loop will print each letter in the string 'bananas'"
   ]
  },
  {
   "cell_type": "code",
   "execution_count": 14,
   "id": "d0101f2b",
   "metadata": {},
   "outputs": [
    {
     "name": "stdout",
     "output_type": "stream",
     "text": [
      "Oblivi\n"
     ]
    }
   ],
   "source": [
    "#STRING SLICING\n",
    "s = 'Oblivion is a game'\n",
    "print(s[0:6])"
   ]
  },
  {
   "cell_type": "code",
   "execution_count": null,
   "id": "2ee202ee",
   "metadata": {},
   "outputs": [],
   "source": [
    "#string slicing \n",
    "fruit[:3] \n",
    "# this will print the first three letters of the string 'bananas'\n",
    "fruit[3:]"
   ]
  },
  {
   "cell_type": "code",
   "execution_count": 20,
   "id": "1bba5e06",
   "metadata": {},
   "outputs": [
    {
     "data": {
      "text/plain": [
       "''"
      ]
     },
     "execution_count": 20,
     "metadata": {},
     "output_type": "execute_result"
    }
   ],
   "source": [
    "fruit[4:3]"
   ]
  },
  {
   "cell_type": "code",
   "execution_count": 26,
   "id": "136a46d6",
   "metadata": {},
   "outputs": [
    {
     "name": "stdout",
     "output_type": "stream",
     "text": [
      "jello, world!\n"
     ]
    }
   ],
   "source": [
    "#VARIATIONS ON THE ORIGINAL STRINGS\n",
    "greeting = 'hello, world!'\n",
    "#greeting[0] = 'j'    #srings are immutable\n",
    "new_greeting = 'j' + greeting[1:]\n",
    "\n",
    "print(new_greeting)"
   ]
  },
  {
   "cell_type": "code",
   "execution_count": null,
   "id": "a5493302",
   "metadata": {
    "notebookRunGroups": {
     "groupValue": "2"
    }
   },
   "outputs": [
    {
     "name": "stdout",
     "output_type": "stream",
     "text": [
      "3\n"
     ]
    }
   ],
   "source": [
    "#counter\n",
    "word = 'banana'\n",
    "count = 0\n",
    "for letter in word:\n",
    "    if letter == 'a':\n",
    "        count = count + 1\n",
    "print(count)"
   ]
  },
  {
   "cell_type": "code",
   "execution_count": 29,
   "id": "80ff66bd",
   "metadata": {},
   "outputs": [
    {
     "data": {
      "text/plain": [
       "False"
      ]
     },
     "execution_count": 29,
     "metadata": {},
     "output_type": "execute_result"
    }
   ],
   "source": [
    "#boolean operator #in\n",
    "'a' in 'banana'\n",
    "\n",
    "'seed' in 'banana'"
   ]
  },
  {
   "cell_type": "code",
   "execution_count": 34,
   "id": "39fe22f7",
   "metadata": {},
   "outputs": [
    {
     "name": "stdout",
     "output_type": "stream",
     "text": [
      "Your word,letters, comes after banana.\n"
     ]
    }
   ],
   "source": [
    "#string comparisson #putting words in alphabetical orders\n",
    "word = (input('Enter your word: '))\n",
    "if word == 'banana':\n",
    "    print('All right, bananas.')\n",
    "\n",
    "if word < 'banana':\n",
    "    print('Your word,'+word+', comes before banana.')\n",
    "elif word > 'banana':\n",
    "    print('Your word,'+word+', comes after banana.')\n",
    "else:\n",
    "    print('All right, bananas')"
   ]
  },
  {
   "cell_type": "code",
   "execution_count": 35,
   "id": "23e73a8d",
   "metadata": {},
   "outputs": [
    {
     "name": "stdout",
     "output_type": "stream",
     "text": [
      "BANANA\n"
     ]
    }
   ],
   "source": [
    "#string method\n",
    "#word.upper()  #upper\n",
    "word = 'banana'\n",
    "new_word = word.upper()\n",
    "print(new_word)\n"
   ]
  },
  {
   "cell_type": "code",
   "execution_count": null,
   "id": "3bc2fae1",
   "metadata": {},
   "outputs": [
    {
     "name": "stdout",
     "output_type": "stream",
     "text": [
      "1\n"
     ]
    }
   ],
   "source": [
    "#find #searches for the position of a string within another\n",
    "index = word.find('a')\n",
    "print(index)"
   ]
  },
  {
   "cell_type": "code",
   "execution_count": 37,
   "id": "e6a1b6dd",
   "metadata": {},
   "outputs": [
    {
     "data": {
      "text/plain": [
       "2"
      ]
     },
     "execution_count": 37,
     "metadata": {},
     "output_type": "execute_result"
    }
   ],
   "source": [
    "word.find('na')"
   ]
  },
  {
   "cell_type": "code",
   "execution_count": 38,
   "id": "c18ab069",
   "metadata": {},
   "outputs": [
    {
     "data": {
      "text/plain": [
       "4"
      ]
     },
     "execution_count": 38,
     "metadata": {},
     "output_type": "execute_result"
    }
   ],
   "source": [
    "word.find('na', 3)"
   ]
  },
  {
   "cell_type": "code",
   "execution_count": 39,
   "id": "bc177c61",
   "metadata": {},
   "outputs": [
    {
     "data": {
      "text/plain": [
       "'here we go'"
      ]
     },
     "execution_count": 39,
     "metadata": {},
     "output_type": "execute_result"
    }
   ],
   "source": [
    "#strip # remove whitespaces\n",
    "line = '    here we go      '\n",
    "line.strip()"
   ]
  },
  {
   "cell_type": "code",
   "execution_count": 40,
   "id": "4601ee0a",
   "metadata": {},
   "outputs": [
    {
     "data": {
      "text/plain": [
       "True"
      ]
     },
     "execution_count": 40,
     "metadata": {},
     "output_type": "execute_result"
    }
   ],
   "source": [
    "line = 'Have a nice day'\n",
    "line.startswith('Have')"
   ]
  },
  {
   "cell_type": "code",
   "execution_count": 42,
   "id": "762b356c",
   "metadata": {},
   "outputs": [
    {
     "data": {
      "text/plain": [
       "False"
      ]
     },
     "execution_count": 42,
     "metadata": {},
     "output_type": "execute_result"
    }
   ],
   "source": [
    "line.startswith('h')"
   ]
  },
  {
   "cell_type": "code",
   "execution_count": 45,
   "id": "a6d4e3f2",
   "metadata": {},
   "outputs": [
    {
     "data": {
      "text/plain": [
       "True"
      ]
     },
     "execution_count": 45,
     "metadata": {},
     "output_type": "execute_result"
    }
   ],
   "source": [
    "line.lower()\n",
    "line.lower().startswith('h')"
   ]
  },
  {
   "cell_type": "code",
   "execution_count": 53,
   "id": "5fd148ec",
   "metadata": {},
   "outputs": [
    {
     "name": "stdout",
     "output_type": "stream",
     "text": [
      "21\n",
      "31\n",
      "uct.ac.za\n"
     ]
    }
   ],
   "source": [
    "#parsing strings\n",
    "#pulling out only the position second half of the address\n",
    "data = 'From humphrey.githund@uct.ac.za Sat Jan 5 09:14:16 2008'\n",
    "atpos = data.find('@')\n",
    "print(atpos)\n",
    "\n",
    "sppos = data.find(' ', atpos)\n",
    "print(sppos)\n",
    "\n",
    "host = data[atpos+1:sppos]\n",
    "print(host)\n"
   ]
  },
  {
   "cell_type": "code",
   "execution_count": 54,
   "id": "d4fde1e5",
   "metadata": {},
   "outputs": [
    {
     "data": {
      "text/plain": [
       "'I have spotted 42 camels'"
      ]
     },
     "execution_count": 54,
     "metadata": {},
     "output_type": "execute_result"
    }
   ],
   "source": [
    "#formatted string literals\n",
    "camels = 42\n",
    "f'I have spotted {camels} camels'"
   ]
  },
  {
   "cell_type": "code",
   "execution_count": 57,
   "id": "cfa51759",
   "metadata": {},
   "outputs": [
    {
     "data": {
      "text/plain": [
       "'In 3years I have spotted 1 camels'"
      ]
     },
     "execution_count": 57,
     "metadata": {},
     "output_type": "execute_result"
    }
   ],
   "source": [
    "years = 3\n",
    "count = 1\n",
    "species = 'camels'\n",
    "f'In {years}years I have spotted {count} {species}'"
   ]
  },
  {
   "cell_type": "code",
   "execution_count": null,
   "id": "3fdd349e",
   "metadata": {},
   "outputs": [],
   "source": []
  }
 ],
 "metadata": {
  "kernelspec": {
   "display_name": "Python 3",
   "language": "python",
   "name": "python3"
  },
  "language_info": {
   "codemirror_mode": {
    "name": "ipython",
    "version": 3
   },
   "file_extension": ".py",
   "mimetype": "text/x-python",
   "name": "python",
   "nbconvert_exporter": "python",
   "pygments_lexer": "ipython3",
   "version": "3.13.3"
  }
 },
 "nbformat": 4,
 "nbformat_minor": 5
}
