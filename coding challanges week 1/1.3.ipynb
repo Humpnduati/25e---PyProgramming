{
 "cells": [
  {
   "cell_type": "code",
   "execution_count": 1,
   "id": "7d0c602f",
   "metadata": {},
   "outputs": [
    {
     "name": "stdout",
     "output_type": "stream",
     "text": [
      "Welcome to the guessing game!\n",
      "I'm thinking of a number between 1 and 100.\n",
      "You have 5 attempts to guess the number.\n",
      "Let's begin!\n",
      "Enter 'exit' to quit the game at any time.\n",
      "Good luck!\n",
      "Your guess is too low.\n",
      "Your guess is too low.\n",
      "Your guess is out of range. Please guess a number between 1 and 100.\n",
      "Your guess is out of range. Please guess a number between 1 and 100.\n",
      "Your guess is too high.\n",
      "Your guess is too high.\n",
      "Thanks for playing! Goodbye!\n",
      "Sorry, you've used all 5 attempts. The number was 45. Better luck next time!\n"
     ]
    }
   ],
   "source": [
    "# 1\n",
    "import random\n",
    "a = random.randint(1, 100)\n",
    "max_attempts = 5\n",
    "attempts = 0\n",
    "\n",
    "print(\"Welcome to the guessing game!\")\n",
    "print(\"I'm thinking of a number between 1 and 100.\")    \n",
    "print(f\"You have {max_attempts} attempts to guess the number.\")\n",
    "print(\"Let's begin!\")\n",
    "print(\"Enter 'exit' to quit the game at any time.\")\n",
    "print(\"Good luck!\")\n",
    "\n",
    "\n",
    "while attempts < max_attempts:\n",
    "    guess = input(f\"Attempt {attempts + 1}: Enter your guess: \")\n",
    "    \n",
    "    if guess.lower() == 'exit':\n",
    "        print(\"Thanks for playing! Goodbye!\")\n",
    "        break\n",
    "    \n",
    "    try:\n",
    "        guess = int(guess)\n",
    "    except ValueError:\n",
    "        print(\"Invalid input. Please enter a number.\")\n",
    "        continue\n",
    "    \n",
    "    if guess < 1 or guess > 100:\n",
    "        print(\"Your guess is out of range. Please guess a number between 1 and 100.\")\n",
    "        continue\n",
    "    \n",
    "    attempts += 1\n",
    "    \n",
    "    if guess < a:\n",
    "        print(\"Your guess is too low.\")\n",
    "    elif guess > a:\n",
    "        print(\"Your guess is too high.\")\n",
    "    else:\n",
    "        print(f\"Congratulations! You've guessed the number {a} in {attempts} attempts!\")\n",
    "        break\n",
    "if guess != a:\n",
    "    print(f\"Sorry, you've used all {max_attempts} attempts. The number was {a}. Better luck next time!\")\n",
    "\n"
   ]
  },
  {
   "cell_type": "code",
   "execution_count": 2,
   "id": "8a926604",
   "metadata": {},
   "outputs": [
    {
     "name": "stdout",
     "output_type": "stream",
     "text": [
      "8\n"
     ]
    }
   ],
   "source": [
    "# 2\n",
    "num_1 = int(input('Enter first number: '))\n",
    "num_2 = int(input('Enter second number: '))     \n",
    "a = input('Enter an operator (+, -, *, /): ')\n",
    "if a == '+':\n",
    "    res = num_1 + num_2\n",
    "    print(num_1 + num_2)    \n",
    "elif a == '-':\n",
    "    res = num_1 - num_2\n",
    "    print(num_1 - num_2)\n",
    "elif a == '*':\n",
    "    res = num_1 * num_2\n",
    "    print(num_1 * num_2)\n",
    "elif a == '/':\n",
    "    res = num_1 / num_2\n",
    "    print(num_1 / num_2)"
   ]
  },
  {
   "cell_type": "code",
   "execution_count": 4,
   "id": "f27bb345",
   "metadata": {},
   "outputs": [
    {
     "name": "stdout",
     "output_type": "stream",
     "text": [
      "{num} is not a prime number\n"
     ]
    }
   ],
   "source": [
    "# 3\n",
    "num = int(input('Enter a number: '))\n",
    "if num <= 1:\n",
    "    print('{num} is not a prime number')\n",
    "else:\n",
    "    a = 2\n",
    "    is_prime = True\n",
    "    while a < num:\n",
    "        if num % a == 0:\n",
    "            is_prime = False\n",
    "            break\n",
    "        a = a + 1\n",
    "    if is_prime:\n",
    "        print('{num} is a prime number')\n",
    "    else:\n",
    "        print('{num} is not a prime number')    "
   ]
  },
  {
   "cell_type": "code",
   "execution_count": 5,
   "id": "45152c94",
   "metadata": {},
   "outputs": [
    {
     "name": "stdout",
     "output_type": "stream",
     "text": [
      "5 * 1 = 5\n",
      "5 * 2 = 10\n",
      "5 * 3 = 15\n",
      "5 * 4 = 20\n",
      "5 * 5 = 25\n"
     ]
    }
   ],
   "source": [
    "# 4\n",
    "num = int(input('Enter a number: '))\n",
    "multiplier = int(input('Enter a multiplier: '))\n",
    "for a in range(1, multiplier + 1):\n",
    "    result = num * a\n",
    "    print(f'{num} * {a} = {result}')"
   ]
  },
  {
   "cell_type": "code",
   "execution_count": 6,
   "id": "b06b984b",
   "metadata": {},
   "outputs": [
    {
     "name": "stdout",
     "output_type": "stream",
     "text": [
      "The sum of the first 5 numbers is: 15\n"
     ]
    }
   ],
   "source": [
    "# 5\n",
    "number = int(input ('Enter a digit: '))\n",
    "add = 0\n",
    "for a in range(1, number + 1):\n",
    "    add = add + a\n",
    "print('The sum of the first', number, 'numbers is:', add)"
   ]
  },
  {
   "cell_type": "code",
   "execution_count": 7,
   "id": "8d3a27df",
   "metadata": {},
   "outputs": [
    {
     "name": "stdout",
     "output_type": "stream",
     "text": [
      "\n",
      "1\n",
      "22\n",
      "333\n",
      "4444\n",
      "55555\n",
      "666666\n",
      "7777777\n",
      "88888888\n",
      "999999999\n"
     ]
    }
   ],
   "source": [
    " # 6\n",
    "for a in range(10):\n",
    "    print(str(a) * a)"
   ]
  }
 ],
 "metadata": {
  "kernelspec": {
   "display_name": "Python 3",
   "language": "python",
   "name": "python3"
  },
  "language_info": {
   "codemirror_mode": {
    "name": "ipython",
    "version": 3
   },
   "file_extension": ".py",
   "mimetype": "text/x-python",
   "name": "python",
   "nbconvert_exporter": "python",
   "pygments_lexer": "ipython3",
   "version": "3.13.3"
  }
 },
 "nbformat": 4,
 "nbformat_minor": 5
}
