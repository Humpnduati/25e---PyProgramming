import random
choices = ["rock", "paper", "scissors"]
player_wins = 0
computer_wins = 0
winning_score = 3

while player_wins < winning_score and computer_wins < winning_score:
    print(f"Player Score: {player_wins} Computer Score: {computer_wins}")
    print("rock")
    print("paper")
    print("scissors")

    player = input("(Enter your choice): ")
    if player == "quit" or player == "q":
        break

    if player not in choices:
        print("Please enter a valid move!")
        continue

    computer = random.choice(choices)
    print(f"Computer's move: {computer}")

    if player == computer:
        print("Draw!")
    elif player == "rock":
        if computer == "paper":
            print("Computer wins")
            computer_wins = computer_wins + 1
        else:
            print("Player wins!")
            player_wins = player_wins + 1
    elif player == "paper":
        if computer == "scissors":
            print("Computer wins!")
            computer_wins = computer_wins + 1
        else:
            print("Player wins!")
            player_wins = player_wins + 1
    elif player == "scissors":
        if computer == "rock":
            print("Computer wins!")
            computer_wins = computer_wins + 1
        else:
            print("You win!")
            player_wins = player_wins + 1

if player_wins > computer_wins:
    print("Whoopiii, Winner!")
elif player_wins == computer_wins:
    print("Draw")
else:
    print("Eiishh, You Lost") 